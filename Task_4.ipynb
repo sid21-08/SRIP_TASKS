{
  "nbformat": 4,
  "nbformat_minor": 0,
  "metadata": {
    "colab": {
      "name": "Task_4.ipynb",
      "provenance": [],
      "collapsed_sections": []
    },
    "kernelspec": {
      "name": "python3",
      "display_name": "Python 3"
    },
    "language_info": {
      "name": "python"
    }
  },
  "cells": [
    {
      "cell_type": "code",
      "source": [
        "!pip install --force-reinstall pymc3"
      ],
      "metadata": {
        "colab": {
          "base_uri": "https://localhost:8080/",
          "height": 1000
        },
        "id": "D_hHbMaV_iWQ",
        "outputId": "e378ccb7-5d9d-4d80-b832-f0acfb47daa0"
      },
      "execution_count": null,
      "outputs": [
        {
          "output_type": "stream",
          "name": "stdout",
          "text": [
            "Collecting pymc3\n",
            "  Downloading pymc3-3.11.5-py3-none-any.whl (872 kB)\n",
            "\u001b[K     |████████████████████████████████| 872 kB 13.4 MB/s \n",
            "\u001b[?25hCollecting dill\n",
            "  Downloading dill-0.3.4-py2.py3-none-any.whl (86 kB)\n",
            "\u001b[K     |████████████████████████████████| 86 kB 5.7 MB/s \n",
            "\u001b[?25hCollecting fastprogress>=0.2.0\n",
            "  Downloading fastprogress-1.0.2-py3-none-any.whl (12 kB)\n",
            "Collecting arviz>=0.11.0\n",
            "  Downloading arviz-0.12.0-py3-none-any.whl (1.6 MB)\n",
            "\u001b[K     |████████████████████████████████| 1.6 MB 62.3 MB/s \n",
            "\u001b[?25hCollecting theano-pymc==1.1.2\n",
            "  Downloading Theano-PyMC-1.1.2.tar.gz (1.8 MB)\n",
            "\u001b[K     |████████████████████████████████| 1.8 MB 57.9 MB/s \n",
            "\u001b[?25hCollecting deprecat\n",
            "  Downloading deprecat-2.1.1-py2.py3-none-any.whl (9.8 kB)\n",
            "Collecting numpy<1.22.2,>=1.15.0\n",
            "  Downloading numpy-1.21.5-cp37-cp37m-manylinux_2_12_x86_64.manylinux2010_x86_64.whl (15.7 MB)\n",
            "\u001b[K     |████████████████████████████████| 15.7 MB 36.2 MB/s \n",
            "\u001b[?25hCollecting cachetools>=4.2.1\n",
            "  Downloading cachetools-5.0.0-py3-none-any.whl (9.1 kB)\n",
            "Collecting semver>=2.13.0\n",
            "  Downloading semver-2.13.0-py2.py3-none-any.whl (12 kB)\n",
            "Collecting patsy>=0.5.1\n",
            "  Downloading patsy-0.5.2-py2.py3-none-any.whl (233 kB)\n",
            "\u001b[K     |████████████████████████████████| 233 kB 66.7 MB/s \n",
            "\u001b[?25hCollecting typing-extensions>=3.7.4\n",
            "  Downloading typing_extensions-4.1.1-py3-none-any.whl (26 kB)\n",
            "Collecting scipy<1.8.0,>=1.7.3\n",
            "  Downloading scipy-1.7.3-cp37-cp37m-manylinux_2_12_x86_64.manylinux2010_x86_64.whl (38.1 MB)\n",
            "\u001b[K     |████████████████████████████████| 38.1 MB 1.1 MB/s \n",
            "\u001b[?25hCollecting pandas>=0.24.0\n",
            "  Downloading pandas-1.3.5-cp37-cp37m-manylinux_2_17_x86_64.manylinux2014_x86_64.whl (11.3 MB)\n",
            "\u001b[K     |████████████████████████████████| 11.3 MB 54.5 MB/s \n",
            "\u001b[?25hCollecting filelock\n",
            "  Downloading filelock-3.6.0-py3-none-any.whl (10.0 kB)\n",
            "Collecting packaging\n",
            "  Downloading packaging-21.3-py3-none-any.whl (40 kB)\n",
            "\u001b[K     |████████████████████████████████| 40 kB 4.1 MB/s \n",
            "\u001b[?25hCollecting matplotlib>=3.0\n",
            "  Downloading matplotlib-3.5.1-cp37-cp37m-manylinux_2_5_x86_64.manylinux1_x86_64.whl (11.2 MB)\n",
            "\u001b[K     |████████████████████████████████| 11.2 MB 67.2 MB/s \n",
            "\u001b[?25hCollecting netcdf4\n",
            "  Downloading netCDF4-1.5.8-cp37-cp37m-manylinux_2_17_x86_64.manylinux2014_x86_64.whl (4.6 MB)\n",
            "\u001b[K     |████████████████████████████████| 4.6 MB 43.3 MB/s \n",
            "\u001b[?25hCollecting setuptools>=38.4\n",
            "  Downloading setuptools-62.0.0-py3-none-any.whl (1.1 MB)\n",
            "\u001b[K     |████████████████████████████████| 1.1 MB 57.5 MB/s \n",
            "\u001b[?25hCollecting xarray>=0.16.1\n",
            "  Downloading xarray-0.20.2-py3-none-any.whl (845 kB)\n",
            "\u001b[K     |████████████████████████████████| 845 kB 49.9 MB/s \n",
            "\u001b[?25hCollecting fonttools>=4.22.0\n",
            "  Downloading fonttools-4.32.0-py3-none-any.whl (900 kB)\n",
            "\u001b[K     |████████████████████████████████| 900 kB 65.7 MB/s \n",
            "\u001b[?25hCollecting cycler>=0.10\n",
            "  Downloading cycler-0.11.0-py3-none-any.whl (6.4 kB)\n",
            "Collecting python-dateutil>=2.7\n",
            "  Downloading python_dateutil-2.8.2-py2.py3-none-any.whl (247 kB)\n",
            "\u001b[K     |████████████████████████████████| 247 kB 75.1 MB/s \n",
            "\u001b[?25hCollecting kiwisolver>=1.0.1\n",
            "  Downloading kiwisolver-1.4.2-cp37-cp37m-manylinux_2_5_x86_64.manylinux1_x86_64.whl (1.1 MB)\n",
            "\u001b[K     |████████████████████████████████| 1.1 MB 57.9 MB/s \n",
            "\u001b[?25hCollecting pillow>=6.2.0\n",
            "  Downloading Pillow-9.1.0-cp37-cp37m-manylinux_2_17_x86_64.manylinux2014_x86_64.whl (4.3 MB)\n",
            "\u001b[K     |████████████████████████████████| 4.3 MB 55.1 MB/s \n",
            "\u001b[?25hCollecting pyparsing>=2.2.1\n",
            "  Downloading pyparsing-3.0.7-py3-none-any.whl (98 kB)\n",
            "\u001b[K     |████████████████████████████████| 98 kB 7.2 MB/s \n",
            "\u001b[?25hCollecting pytz>=2017.3\n",
            "  Downloading pytz-2022.1-py2.py3-none-any.whl (503 kB)\n",
            "\u001b[K     |████████████████████████████████| 503 kB 69.4 MB/s \n",
            "\u001b[?25hCollecting six\n",
            "  Downloading six-1.16.0-py2.py3-none-any.whl (11 kB)\n",
            "Collecting importlib-metadata\n",
            "  Downloading importlib_metadata-4.11.3-py3-none-any.whl (18 kB)\n",
            "Collecting wrapt<2,>=1.10\n",
            "  Downloading wrapt-1.14.0-cp37-cp37m-manylinux_2_5_x86_64.manylinux1_x86_64.manylinux_2_17_x86_64.manylinux2014_x86_64.whl (75 kB)\n",
            "\u001b[K     |████████████████████████████████| 75 kB 3.1 MB/s \n",
            "\u001b[?25hCollecting zipp>=0.5\n",
            "  Downloading zipp-3.8.0-py3-none-any.whl (5.4 kB)\n",
            "Collecting cftime\n",
            "  Downloading cftime-1.6.0-cp37-cp37m-manylinux_2_17_x86_64.manylinux2014_x86_64.whl (229 kB)\n",
            "\u001b[K     |████████████████████████████████| 229 kB 71.6 MB/s \n",
            "\u001b[?25hBuilding wheels for collected packages: theano-pymc\n",
            "  Building wheel for theano-pymc (setup.py) ... \u001b[?25l\u001b[?25hdone\n",
            "  Created wheel for theano-pymc: filename=Theano_PyMC-1.1.2-py3-none-any.whl size=1529963 sha256=26db32ece2241644be44d0855497c8cbd9a59d0c865fbe6fb4efb93f1469be22\n",
            "  Stored in directory: /root/.cache/pip/wheels/f3/af/8c/5dd7553522d74c52a7813806fc7ee1a9caa20a3f7c8fd850d5\n",
            "Successfully built theano-pymc\n",
            "Installing collected packages: six, zipp, typing-extensions, pytz, python-dateutil, pyparsing, numpy, pillow, pandas, packaging, kiwisolver, importlib-metadata, fonttools, cycler, cftime, xarray, wrapt, setuptools, scipy, netcdf4, matplotlib, filelock, theano-pymc, semver, patsy, fastprogress, dill, deprecat, cachetools, arviz, pymc3\n",
            "  Attempting uninstall: six\n",
            "    Found existing installation: six 1.15.0\n",
            "    Uninstalling six-1.15.0:\n",
            "      Successfully uninstalled six-1.15.0\n",
            "  Attempting uninstall: zipp\n",
            "    Found existing installation: zipp 3.7.0\n",
            "    Uninstalling zipp-3.7.0:\n",
            "      Successfully uninstalled zipp-3.7.0\n",
            "  Attempting uninstall: typing-extensions\n",
            "    Found existing installation: typing-extensions 3.10.0.2\n",
            "    Uninstalling typing-extensions-3.10.0.2:\n",
            "      Successfully uninstalled typing-extensions-3.10.0.2\n",
            "  Attempting uninstall: pytz\n",
            "    Found existing installation: pytz 2018.9\n",
            "    Uninstalling pytz-2018.9:\n",
            "      Successfully uninstalled pytz-2018.9\n",
            "  Attempting uninstall: python-dateutil\n",
            "    Found existing installation: python-dateutil 2.8.2\n",
            "    Uninstalling python-dateutil-2.8.2:\n",
            "      Successfully uninstalled python-dateutil-2.8.2\n",
            "  Attempting uninstall: pyparsing\n",
            "    Found existing installation: pyparsing 3.0.7\n",
            "    Uninstalling pyparsing-3.0.7:\n",
            "      Successfully uninstalled pyparsing-3.0.7\n",
            "  Attempting uninstall: numpy\n",
            "    Found existing installation: numpy 1.21.5\n",
            "    Uninstalling numpy-1.21.5:\n",
            "      Successfully uninstalled numpy-1.21.5\n",
            "  Attempting uninstall: pillow\n",
            "    Found existing installation: Pillow 7.1.2\n",
            "    Uninstalling Pillow-7.1.2:\n",
            "      Successfully uninstalled Pillow-7.1.2\n",
            "  Attempting uninstall: pandas\n",
            "    Found existing installation: pandas 1.3.5\n",
            "    Uninstalling pandas-1.3.5:\n",
            "      Successfully uninstalled pandas-1.3.5\n",
            "  Attempting uninstall: packaging\n",
            "    Found existing installation: packaging 21.3\n",
            "    Uninstalling packaging-21.3:\n",
            "      Successfully uninstalled packaging-21.3\n",
            "  Attempting uninstall: kiwisolver\n",
            "    Found existing installation: kiwisolver 1.4.0\n",
            "    Uninstalling kiwisolver-1.4.0:\n",
            "      Successfully uninstalled kiwisolver-1.4.0\n",
            "  Attempting uninstall: importlib-metadata\n",
            "    Found existing installation: importlib-metadata 4.11.3\n",
            "    Uninstalling importlib-metadata-4.11.3:\n",
            "      Successfully uninstalled importlib-metadata-4.11.3\n",
            "  Attempting uninstall: cycler\n",
            "    Found existing installation: cycler 0.11.0\n",
            "    Uninstalling cycler-0.11.0:\n",
            "      Successfully uninstalled cycler-0.11.0\n",
            "  Attempting uninstall: cftime\n",
            "    Found existing installation: cftime 1.6.0\n",
            "    Uninstalling cftime-1.6.0:\n",
            "      Successfully uninstalled cftime-1.6.0\n",
            "  Attempting uninstall: xarray\n",
            "    Found existing installation: xarray 0.18.2\n",
            "    Uninstalling xarray-0.18.2:\n",
            "      Successfully uninstalled xarray-0.18.2\n",
            "  Attempting uninstall: wrapt\n",
            "    Found existing installation: wrapt 1.14.0\n",
            "    Uninstalling wrapt-1.14.0:\n",
            "      Successfully uninstalled wrapt-1.14.0\n",
            "  Attempting uninstall: setuptools\n",
            "    Found existing installation: setuptools 57.4.0\n",
            "    Uninstalling setuptools-57.4.0:\n",
            "      Successfully uninstalled setuptools-57.4.0\n",
            "  Attempting uninstall: scipy\n",
            "    Found existing installation: scipy 1.4.1\n",
            "    Uninstalling scipy-1.4.1:\n",
            "      Successfully uninstalled scipy-1.4.1\n",
            "  Attempting uninstall: netcdf4\n",
            "    Found existing installation: netCDF4 1.5.8\n",
            "    Uninstalling netCDF4-1.5.8:\n",
            "      Successfully uninstalled netCDF4-1.5.8\n",
            "  Attempting uninstall: matplotlib\n",
            "    Found existing installation: matplotlib 3.2.2\n",
            "    Uninstalling matplotlib-3.2.2:\n",
            "      Successfully uninstalled matplotlib-3.2.2\n",
            "  Attempting uninstall: filelock\n",
            "    Found existing installation: filelock 3.6.0\n",
            "    Uninstalling filelock-3.6.0:\n",
            "      Successfully uninstalled filelock-3.6.0\n",
            "  Attempting uninstall: theano-pymc\n",
            "    Found existing installation: Theano-PyMC 1.1.2\n",
            "    Uninstalling Theano-PyMC-1.1.2:\n",
            "      Successfully uninstalled Theano-PyMC-1.1.2\n",
            "  Attempting uninstall: semver\n",
            "    Found existing installation: semver 2.13.0\n",
            "    Uninstalling semver-2.13.0:\n",
            "      Successfully uninstalled semver-2.13.0\n",
            "  Attempting uninstall: patsy\n",
            "    Found existing installation: patsy 0.5.2\n",
            "    Uninstalling patsy-0.5.2:\n",
            "      Successfully uninstalled patsy-0.5.2\n",
            "  Attempting uninstall: fastprogress\n",
            "    Found existing installation: fastprogress 1.0.2\n",
            "    Uninstalling fastprogress-1.0.2:\n",
            "      Successfully uninstalled fastprogress-1.0.2\n",
            "  Attempting uninstall: dill\n",
            "    Found existing installation: dill 0.3.4\n",
            "    Uninstalling dill-0.3.4:\n",
            "      Successfully uninstalled dill-0.3.4\n",
            "  Attempting uninstall: cachetools\n",
            "    Found existing installation: cachetools 4.2.4\n",
            "    Uninstalling cachetools-4.2.4:\n",
            "      Successfully uninstalled cachetools-4.2.4\n",
            "  Attempting uninstall: arviz\n",
            "    Found existing installation: arviz 0.11.4\n",
            "    Uninstalling arviz-0.11.4:\n",
            "      Successfully uninstalled arviz-0.11.4\n",
            "  Attempting uninstall: pymc3\n",
            "    Found existing installation: pymc3 3.11.4\n",
            "    Uninstalling pymc3-3.11.4:\n",
            "      Successfully uninstalled pymc3-3.11.4\n",
            "\u001b[31mERROR: pip's dependency resolver does not currently take into account all the packages that are installed. This behaviour is the source of the following dependency conflicts.\n",
            "tensorflow 2.8.0 requires tf-estimator-nightly==2.8.0.dev2021122109, which is not installed.\n",
            "google-colab 1.0.0 requires six~=1.15.0, but you have six 1.16.0 which is incompatible.\n",
            "google-auth 1.35.0 requires cachetools<5.0,>=2.0.0, but you have cachetools 5.0.0 which is incompatible.\n",
            "datascience 0.10.6 requires folium==0.2.1, but you have folium 0.8.3 which is incompatible.\n",
            "albumentations 0.1.12 requires imgaug<0.2.7,>=0.2.5, but you have imgaug 0.2.9 which is incompatible.\u001b[0m\n",
            "Successfully installed arviz-0.12.0 cachetools-5.0.0 cftime-1.6.0 cycler-0.11.0 deprecat-2.1.1 dill-0.3.4 fastprogress-1.0.2 filelock-3.6.0 fonttools-4.32.0 importlib-metadata-4.11.3 kiwisolver-1.4.2 matplotlib-3.5.1 netcdf4-1.5.8 numpy-1.21.5 packaging-21.3 pandas-1.3.5 patsy-0.5.2 pillow-9.1.0 pymc3-3.11.5 pyparsing-3.0.7 python-dateutil-2.8.2 pytz-2022.1 scipy-1.7.3 semver-2.13.0 setuptools-62.0.0 six-1.16.0 theano-pymc-1.1.2 typing-extensions-4.1.1 wrapt-1.14.0 xarray-0.20.2 zipp-3.8.0\n"
          ]
        },
        {
          "output_type": "display_data",
          "data": {
            "application/vnd.colab-display-data+json": {
              "pip_warning": {
                "packages": [
                  "PIL",
                  "arviz",
                  "cachetools",
                  "cftime",
                  "cycler",
                  "dateutil",
                  "dill",
                  "fastprogress",
                  "filelock",
                  "kiwisolver",
                  "matplotlib",
                  "mpl_toolkits",
                  "netCDF4",
                  "numpy",
                  "packaging",
                  "pandas",
                  "pkg_resources",
                  "pymc3",
                  "pyparsing",
                  "pytz",
                  "scipy",
                  "semver",
                  "six",
                  "theano",
                  "xarray"
                ]
              }
            }
          },
          "metadata": {}
        }
      ]
    },
    {
      "cell_type": "code",
      "source": [
        "!pip install blackjax"
      ],
      "metadata": {
        "colab": {
          "base_uri": "https://localhost:8080/"
        },
        "id": "unrTO-HjDRit",
        "outputId": "3b23b05c-84cf-49a0-b220-24c15483769b"
      },
      "execution_count": 1,
      "outputs": [
        {
          "output_type": "stream",
          "name": "stdout",
          "text": [
            "Collecting blackjax\n",
            "  Downloading blackjax-0.4.0-py3-none-any.whl (74 kB)\n",
            "\u001b[?25l\r\u001b[K     |████▍                           | 10 kB 25.0 MB/s eta 0:00:01\r\u001b[K     |████████▉                       | 20 kB 15.3 MB/s eta 0:00:01\r\u001b[K     |█████████████▎                  | 30 kB 10.4 MB/s eta 0:00:01\r\u001b[K     |█████████████████▋              | 40 kB 9.2 MB/s eta 0:00:01\r\u001b[K     |██████████████████████          | 51 kB 4.5 MB/s eta 0:00:01\r\u001b[K     |██████████████████████████▌     | 61 kB 5.2 MB/s eta 0:00:01\r\u001b[K     |██████████████████████████████▉ | 71 kB 5.8 MB/s eta 0:00:01\r\u001b[K     |████████████████████████████████| 74 kB 2.2 MB/s \n",
            "\u001b[?25hInstalling collected packages: blackjax\n",
            "Successfully installed blackjax-0.4.0\n"
          ]
        }
      ]
    },
    {
      "cell_type": "code",
      "execution_count": 15,
      "metadata": {
        "id": "An4OhnIk1w_l"
      },
      "outputs": [],
      "source": [
        "\"\"\"Import the relevant libraries\"\"\"\n",
        "import numpy as np\n",
        "import matplotlib.pyplot as plt\n",
        "import pandas as pd\n",
        "import seaborn as sns\n",
        "import jax\n",
        "import jax.random as random\n",
        "import blackjax\n",
        "import jax.numpy as jnp"
      ]
    },
    {
      "cell_type": "markdown",
      "source": [
        "Generate Artificial data"
      ],
      "metadata": {
        "id": "3wXh4zhutuWN"
      }
    },
    {
      "cell_type": "code",
      "source": [
        "rng=np.random.RandomState(1)\n"
      ],
      "metadata": {
        "id": "4bJfNNlW5syW"
      },
      "execution_count": 4,
      "outputs": []
    },
    {
      "cell_type": "code",
      "source": [
        "rng"
      ],
      "metadata": {
        "colab": {
          "base_uri": "https://localhost:8080/"
        },
        "id": "sjpIxPAn6AI6",
        "outputId": "1e8f6209-a020-4dff-f5a9-3a5350b06417"
      },
      "execution_count": 5,
      "outputs": [
        {
          "output_type": "execute_result",
          "data": {
            "text/plain": [
              "RandomState(MT19937) at 0x7FF09D36AAF0"
            ]
          },
          "metadata": {},
          "execution_count": 5
        }
      ]
    },
    {
      "cell_type": "code",
      "source": [
        "x = 10 * rng.rand(50)\n",
        "y = 2 * x - 5 + 2*rng.rand(50)\n",
        "x = x.reshape(-1, 1)\n",
        "y = y.reshape(-1, 1)\n",
        "\n",
        "plt.scatter(x, y)"
      ],
      "metadata": {
        "colab": {
          "base_uri": "https://localhost:8080/",
          "height": 282
        },
        "id": "gRDMYhsG6B1T",
        "outputId": "82c63ecd-f75d-437e-8c63-3fdbfa73649c"
      },
      "execution_count": 6,
      "outputs": [
        {
          "output_type": "execute_result",
          "data": {
            "text/plain": [
              "<matplotlib.collections.PathCollection at 0x7ff09c8c5cd0>"
            ]
          },
          "metadata": {},
          "execution_count": 6
        },
        {
          "output_type": "display_data",
          "data": {
            "text/plain": [
              "<Figure size 432x288 with 1 Axes>"
            ],
            "image/png": "[encoded data removed]"
          },
          "metadata": {
            "needs_background": "light"
          }
        }
      ]
    },
    {
      "cell_type": "markdown",
      "source": [
        "In the below few lines of code, I sampled using blackjax sampler(HMC)"
      ],
      "metadata": {
        "id": "xwRJl2kAuRRn"
      }
    },
    {
      "cell_type": "code",
      "source": [
        "loc, scale = 10, 20\n",
        "observed = np.random.normal(loc, scale, size=1_000)"
      ],
      "metadata": {
        "id": "hjYHZbsefDZA"
      },
      "execution_count": 7,
      "outputs": []
    },
    {
      "cell_type": "code",
      "source": [
        "def logprob_fn(loc, scale, observed=observed):\n",
        "    \"\"\"Univariate Normal\"\"\"\n",
        "    logpdf = stats.norm.logpdf(observed, loc, scale)\n",
        "    return jnp.sum(logpdf)\n",
        "\n",
        "\n",
        "logprob = lambda x: logprob_fn(**x)"
      ],
      "metadata": {
        "id": "qNPsWxyne8Oq"
      },
      "execution_count": 8,
      "outputs": []
    },
    {
      "cell_type": "code",
      "source": [
        "inv_mass_matrix = np.array([0.5, 0.5])\n",
        "num_integration_steps = 60\n",
        "step_size = 1e-3\n",
        "\n",
        "hmc = blackjax.hmc(logprob, step_size, inv_mass_matrix, num_integration_steps)"
      ],
      "metadata": {
        "id": "OiqYYYoFe2pw"
      },
      "execution_count": 9,
      "outputs": []
    },
    {
      "cell_type": "markdown",
      "source": [
        "PyMC3 module is created"
      ],
      "metadata": {
        "id": "DChAc1novIvO"
      }
    },
    {
      "cell_type": "code",
      "source": [
        "import pymc3 as pm\n",
        "print('Running on the PyMC3 v{}'.format(pm.__version__))\n",
        "basic_model =  pm.Model()"
      ],
      "metadata": {
        "colab": {
          "base_uri": "https://localhost:8080/"
        },
        "id": "i2nQVUT-6btK",
        "outputId": "d6f69cf2-5f88-4fc8-e73d-b122b2676ef3"
      },
      "execution_count": 10,
      "outputs": [
        {
          "output_type": "stream",
          "name": "stdout",
          "text": [
            "Running on the PyMC3 v3.11.4\n"
          ]
        }
      ]
    },
    {
      "cell_type": "markdown",
      "source": [
        "Model parameters i.e. alpha,beta and gamma are defined"
      ],
      "metadata": {
        "id": "ZbQcVxxrv0HC"
      }
    },
    {
      "cell_type": "code",
      "source": [
        "with basic_model as bm:\n",
        "\n",
        "    #Priors\n",
        "    alpha = pm.Normal('alpha', mu=0, sd=10)\n",
        "    beta = pm.Normal('beta', mu=0, sd=10)\n",
        "    sigma = pm.HalfNormal('sigma', sd=1)\n",
        "\n",
        "    # Deterministics\n",
        "    mu = alpha + beta*x\n",
        "    \n",
        "    # Likelihood \n",
        "    Ylikelihood = pm.Normal('Ylikelihood', mu=mu, sd=sigma, observed=y)"
      ],
      "metadata": {
        "id": "xUVw3mHJ7uuu"
      },
      "execution_count": 11,
      "outputs": []
    },
    {
      "cell_type": "markdown",
      "source": [
        "Posterior sampling is done using pm model"
      ],
      "metadata": {
        "id": "SJeoILJAwtwg"
      }
    },
    {
      "cell_type": "code",
      "source": [
        "trace = pm.sample(draws=2000,model=bm)"
      ],
      "metadata": {
        "colab": {
          "base_uri": "https://localhost:8080/",
          "height": 198
        },
        "id": "ebZrjCKw73mG",
        "outputId": "4fa94061-5a19-420f-e13e-827c69f0272b"
      },
      "execution_count": 12,
      "outputs": [
        {
          "output_type": "stream",
          "name": "stderr",
          "text": [
            "/usr/local/lib/python3.7/dist-packages/ipykernel_launcher.py:1: FutureWarning: In v4.0, pm.sample will return an `arviz.InferenceData` object instead of a `MultiTrace` by default. You can pass return_inferencedata=True or return_inferencedata=False to be safe and silence this warning.\n",
            "  \"\"\"Entry point for launching an IPython kernel.\n",
            "Auto-assigning NUTS sampler...\n",
            "Initializing NUTS using jitter+adapt_diag...\n",
            "Sequential sampling (2 chains in 1 job)\n",
            "NUTS: [sigma, beta, alpha]\n"
          ]
        },
        {
          "output_type": "display_data",
          "data": {
            "text/plain": [
              "<IPython.core.display.HTML object>"
            ],
            "text/html": [
              "\n",
              "<style>\n",
              "    /* Turns off some styling */\n",
              "    progress {\n",
              "        /* gets rid of default border in Firefox and Opera. */\n",
              "        border: none;\n",
              "        /* Needs to be in here for Safari polyfill so background images work as expected. */\n",
              "        background-size: auto;\n",
              "    }\n",
              "    .progress-bar-interrupted, .progress-bar-interrupted::-webkit-progress-bar {\n",
              "        background: #F44336;\n",
              "    }\n",
              "</style>\n"
            ]
          },
          "metadata": {}
        },
        {
          "output_type": "display_data",
          "data": {
            "text/plain": [
              "<IPython.core.display.HTML object>"
            ],
            "text/html": [
              "\n",
              "    <div>\n",
              "      <progress value='3000' class='' max='3000' style='width:300px; height:20px; vertical-align: middle;'></progress>\n",
              "      100.00% [3000/3000 00:04<00:00 Sampling chain 0, 0 divergences]\n",
              "    </div>\n",
              "    "
            ]
          },
          "metadata": {}
        },
        {
          "output_type": "display_data",
          "data": {
            "text/plain": [
              "<IPython.core.display.HTML object>"
            ],
            "text/html": [
              "\n",
              "<style>\n",
              "    /* Turns off some styling */\n",
              "    progress {\n",
              "        /* gets rid of default border in Firefox and Opera. */\n",
              "        border: none;\n",
              "        /* Needs to be in here for Safari polyfill so background images work as expected. */\n",
              "        background-size: auto;\n",
              "    }\n",
              "    .progress-bar-interrupted, .progress-bar-interrupted::-webkit-progress-bar {\n",
              "        background: #F44336;\n",
              "    }\n",
              "</style>\n"
            ]
          },
          "metadata": {}
        },
        {
          "output_type": "display_data",
          "data": {
            "text/plain": [
              "<IPython.core.display.HTML object>"
            ],
            "text/html": [
              "\n",
              "    <div>\n",
              "      <progress value='3000' class='' max='3000' style='width:300px; height:20px; vertical-align: middle;'></progress>\n",
              "      100.00% [3000/3000 00:03<00:00 Sampling chain 1, 0 divergences]\n",
              "    </div>\n",
              "    "
            ]
          },
          "metadata": {}
        },
        {
          "output_type": "stream",
          "name": "stderr",
          "text": [
            "Sampling 2 chains for 1_000 tune and 2_000 draw iterations (2_000 + 4_000 draws total) took 7 seconds.\n"
          ]
        }
      ]
    },
    {
      "cell_type": "markdown",
      "source": [
        "PyMC3 automatically chooses appropriate model depending on the type of data. In my case of continuous data, NUTS is used."
      ],
      "metadata": {
        "id": "uoEEcZWTx0-Q"
      }
    },
    {
      "cell_type": "code",
      "source": [
        "trace"
      ],
      "metadata": {
        "colab": {
          "base_uri": "https://localhost:8080/"
        },
        "id": "fN8yWEqSVxen",
        "outputId": "e4943cf3-8b1e-4dcc-b171-384858a086b6"
      },
      "execution_count": 13,
      "outputs": [
        {
          "output_type": "execute_result",
          "data": {
            "text/plain": [
              "<MultiTrace: 2 chains, 2000 iterations, 4 variables>"
            ]
          },
          "metadata": {},
          "execution_count": 13
        }
      ]
    },
    {
      "cell_type": "code",
      "source": [
        "step_size = 1\n",
        "inverse_mass_matrix = jnp.array([1., 1.])"
      ],
      "metadata": {
        "id": "zjtruTTED5oh",
        "colab": {
          "base_uri": "https://localhost:8080/"
        },
        "outputId": "751678e0-14bb-4d4e-c2e0-87eea9eecb92"
      },
      "execution_count": 16,
      "outputs": [
        {
          "output_type": "stream",
          "name": "stderr",
          "text": [
            "WARNING:absl:No GPU/TPU found, falling back to CPU. (Set TF_CPP_MIN_LOG_LEVEL=0 and rerun for more info.)\n"
          ]
        }
      ]
    },
    {
      "cell_type": "code",
      "source": [
        "trace1=blackjax.nuts(bm,step_size,inverse_mass_matrix)"
      ],
      "metadata": {
        "id": "OvXZr9nGC6i4"
      },
      "execution_count": 17,
      "outputs": []
    },
    {
      "cell_type": "markdown",
      "source": [
        "Here, I did nuts sampling using blackjax"
      ],
      "metadata": {
        "id": "nKajhGt7yIje"
      }
    },
    {
      "cell_type": "code",
      "source": [
        "trace1"
      ],
      "metadata": {
        "colab": {
          "base_uri": "https://localhost:8080/"
        },
        "id": "Rxp217gz8CLx",
        "outputId": "de587eee-088e-4328-ba83-c95edf55bb79"
      },
      "execution_count": null,
      "outputs": [
        {
          "output_type": "execute_result",
          "data": {
            "text/plain": [
              "SamplingAlgorithm(init=<function nuts.__new__.<locals>.init_fn at 0x7efdac78fdd0>, step=<function nuts.__new__.<locals>.step_fn at 0x7efdac78f950>)"
            ]
          },
          "metadata": {},
          "execution_count": 27
        }
      ]
    },
    {
      "cell_type": "code",
      "source": [
        "observed = np.random.normal(10, 20, size=1_000)\n",
        "def logprob_fn(x):\n",
        "  logpdf = stats.norm.logpdf(observed, x[\"loc\"], x[\"scale\"])\n",
        "  return jnp.sum(logpdf)\n",
        "\n",
        "# Build the kernel\n",
        "step_size = 1e-3\n",
        "inverse_mass_matrix = jnp.array([1., 1.])\n",
        "nuts = blackjax.nuts(logprob_fn, step_size, inverse_mass_matrix)"
      ],
      "metadata": {
        "id": "eHZHXGKbgUqF"
      },
      "execution_count": 18,
      "outputs": []
    },
    {
      "cell_type": "markdown",
      "source": [
        "Here also I tried to find out nuts sampling using blackjax method. Here the method I followed is similar to nuts sampling by black jax"
      ],
      "metadata": {
        "id": "toGiJ-Y1ya9D"
      }
    },
    {
      "cell_type": "code",
      "source": [
        "print(pm.summary(hmc).round(2))"
      ],
      "metadata": {
        "colab": {
          "base_uri": "https://localhost:8080/",
          "height": 328
        },
        "id": "xUfW8-cI8alb",
        "outputId": "ac34fb66-da15-42f7-9528-1d0f9033283e"
      },
      "execution_count": 20,
      "outputs": [
        {
          "output_type": "error",
          "ename": "ValueError",
          "evalue": "ignored",
          "traceback": [
            "\u001b[0;31m---------------------------------------------------------------------------\u001b[0m",
            "\u001b[0;31mValueError\u001b[0m                                Traceback (most recent call last)",
            "\u001b[0;32m<ipython-input-20-7356d281f411>\u001b[0m in \u001b[0;36m<module>\u001b[0;34m()\u001b[0m\n\u001b[0;32m----> 1\u001b[0;31m \u001b[0mprint\u001b[0m\u001b[0;34m(\u001b[0m\u001b[0mpm\u001b[0m\u001b[0;34m.\u001b[0m\u001b[0msummary\u001b[0m\u001b[0;34m(\u001b[0m\u001b[0mhmc\u001b[0m\u001b[0;34m)\u001b[0m\u001b[0;34m.\u001b[0m\u001b[0mround\u001b[0m\u001b[0;34m(\u001b[0m\u001b[0;36m2\u001b[0m\u001b[0;34m)\u001b[0m\u001b[0;34m)\u001b[0m\u001b[0;34m\u001b[0m\u001b[0;34m\u001b[0m\u001b[0m\n\u001b[0m",
            "\u001b[0;32m/usr/local/lib/python3.7/dist-packages/arviz/stats/stats.py\u001b[0m in \u001b[0;36msummary\u001b[0;34m(data, var_names, filter_vars, group, fmt, kind, round_to, circ_var_names, stat_funcs, extend, hdi_prob, skipna, labeller, coords, index_origin, order)\u001b[0m\n\u001b[1;32m   1185\u001b[0m             \u001b[0mdataset\u001b[0m \u001b[0;34m=\u001b[0m \u001b[0mdata\u001b[0m\u001b[0;34m[\u001b[0m\u001b[0mgroup\u001b[0m\u001b[0;34m]\u001b[0m\u001b[0;34m\u001b[0m\u001b[0;34m\u001b[0m\u001b[0m\n\u001b[1;32m   1186\u001b[0m     \u001b[0;32melse\u001b[0m\u001b[0;34m:\u001b[0m\u001b[0;34m\u001b[0m\u001b[0;34m\u001b[0m\u001b[0m\n\u001b[0;32m-> 1187\u001b[0;31m         \u001b[0mdataset\u001b[0m \u001b[0;34m=\u001b[0m \u001b[0mconvert_to_dataset\u001b[0m\u001b[0;34m(\u001b[0m\u001b[0mdata\u001b[0m\u001b[0;34m,\u001b[0m \u001b[0mgroup\u001b[0m\u001b[0;34m=\u001b[0m\u001b[0;34m\"posterior\"\u001b[0m\u001b[0;34m)\u001b[0m\u001b[0;34m\u001b[0m\u001b[0;34m\u001b[0m\u001b[0m\n\u001b[0m\u001b[1;32m   1188\u001b[0m     \u001b[0mvar_names\u001b[0m \u001b[0;34m=\u001b[0m \u001b[0m_var_names\u001b[0m\u001b[0;34m(\u001b[0m\u001b[0mvar_names\u001b[0m\u001b[0;34m,\u001b[0m \u001b[0mdataset\u001b[0m\u001b[0;34m,\u001b[0m \u001b[0mfilter_vars\u001b[0m\u001b[0;34m)\u001b[0m\u001b[0;34m\u001b[0m\u001b[0;34m\u001b[0m\u001b[0m\n\u001b[1;32m   1189\u001b[0m     \u001b[0mdataset\u001b[0m \u001b[0;34m=\u001b[0m \u001b[0mdataset\u001b[0m \u001b[0;32mif\u001b[0m \u001b[0mvar_names\u001b[0m \u001b[0;32mis\u001b[0m \u001b[0;32mNone\u001b[0m \u001b[0;32melse\u001b[0m \u001b[0mdataset\u001b[0m\u001b[0;34m[\u001b[0m\u001b[0mvar_names\u001b[0m\u001b[0;34m]\u001b[0m\u001b[0;34m\u001b[0m\u001b[0;34m\u001b[0m\u001b[0m\n",
            "\u001b[0;32m/usr/local/lib/python3.7/dist-packages/arviz/data/converters.py\u001b[0m in \u001b[0;36mconvert_to_dataset\u001b[0;34m(obj, group, coords, dims)\u001b[0m\n\u001b[1;32m    177\u001b[0m     \u001b[0mxarray\u001b[0m\u001b[0;34m.\u001b[0m\u001b[0mDataset\u001b[0m\u001b[0;34m\u001b[0m\u001b[0;34m\u001b[0m\u001b[0m\n\u001b[1;32m    178\u001b[0m     \"\"\"\n\u001b[0;32m--> 179\u001b[0;31m     \u001b[0minference_data\u001b[0m \u001b[0;34m=\u001b[0m \u001b[0mconvert_to_inference_data\u001b[0m\u001b[0;34m(\u001b[0m\u001b[0mobj\u001b[0m\u001b[0;34m,\u001b[0m \u001b[0mgroup\u001b[0m\u001b[0;34m=\u001b[0m\u001b[0mgroup\u001b[0m\u001b[0;34m,\u001b[0m \u001b[0mcoords\u001b[0m\u001b[0;34m=\u001b[0m\u001b[0mcoords\u001b[0m\u001b[0;34m,\u001b[0m \u001b[0mdims\u001b[0m\u001b[0;34m=\u001b[0m\u001b[0mdims\u001b[0m\u001b[0;34m)\u001b[0m\u001b[0;34m\u001b[0m\u001b[0;34m\u001b[0m\u001b[0m\n\u001b[0m\u001b[1;32m    180\u001b[0m     \u001b[0mdataset\u001b[0m \u001b[0;34m=\u001b[0m \u001b[0mgetattr\u001b[0m\u001b[0;34m(\u001b[0m\u001b[0minference_data\u001b[0m\u001b[0;34m,\u001b[0m \u001b[0mgroup\u001b[0m\u001b[0;34m,\u001b[0m \u001b[0;32mNone\u001b[0m\u001b[0;34m)\u001b[0m\u001b[0;34m\u001b[0m\u001b[0;34m\u001b[0m\u001b[0m\n\u001b[1;32m    181\u001b[0m     \u001b[0;32mif\u001b[0m \u001b[0mdataset\u001b[0m \u001b[0;32mis\u001b[0m \u001b[0;32mNone\u001b[0m\u001b[0;34m:\u001b[0m\u001b[0;34m\u001b[0m\u001b[0;34m\u001b[0m\u001b[0m\n",
            "\u001b[0;32m/usr/local/lib/python3.7/dist-packages/arviz/data/converters.py\u001b[0m in \u001b[0;36mconvert_to_inference_data\u001b[0;34m(obj, group, coords, dims, **kwargs)\u001b[0m\n\u001b[1;32m    131\u001b[0m         raise ValueError(\n\u001b[1;32m    132\u001b[0m             \"Can only convert {} to InferenceData, not {}\".format(\n\u001b[0;32m--> 133\u001b[0;31m                 \u001b[0;34m\", \"\u001b[0m\u001b[0;34m.\u001b[0m\u001b[0mjoin\u001b[0m\u001b[0;34m(\u001b[0m\u001b[0mallowable_types\u001b[0m\u001b[0;34m)\u001b[0m\u001b[0;34m,\u001b[0m \u001b[0mobj\u001b[0m\u001b[0;34m.\u001b[0m\u001b[0m__class__\u001b[0m\u001b[0;34m.\u001b[0m\u001b[0m__name__\u001b[0m\u001b[0;34m\u001b[0m\u001b[0;34m\u001b[0m\u001b[0m\n\u001b[0m\u001b[1;32m    134\u001b[0m             )\n\u001b[1;32m    135\u001b[0m         )\n",
            "\u001b[0;31mValueError\u001b[0m: Can only convert xarray dataarray, xarray dataset, dict, netcdf filename, numpy array, pystan fit, pymc3 trace, emcee fit, pyro mcmc fit, numpyro mcmc fit, cmdstan fit csv filename, cmdstanpy fit to InferenceData, not SamplingAlgorithm"
          ]
        }
      ]
    },
    {
      "cell_type": "markdown",
      "source": [
        "Here, I unsuccesfully tried to implement blackjax sampler"
      ],
      "metadata": {
        "id": "MN3ZtPCjy_HU"
      }
    },
    {
      "cell_type": "code",
      "source": [
        "print(pm.summary(trace).round(2))"
      ],
      "metadata": {
        "colab": {
          "base_uri": "https://localhost:8080/"
        },
        "id": "2acQ8levzY0M",
        "outputId": "a5398531-89fe-43f9-b995-087c694900ae"
      },
      "execution_count": 21,
      "outputs": [
        {
          "output_type": "stream",
          "name": "stderr",
          "text": [
            "ERROR:arviz.data.io_pymc3_3x:Got error No model on context stack. trying to find log_likelihood in translation.\n",
            "/usr/local/lib/python3.7/dist-packages/arviz/data/io_pymc3_3x.py:102: FutureWarning: Using `from_pymc3` without the model will be deprecated in a future release. Not using the model will return less accurate and less useful results. Make sure you use the model argument or call from_pymc3 within a model context.\n",
            "  FutureWarning,\n"
          ]
        },
        {
          "output_type": "stream",
          "name": "stdout",
          "text": [
            "       mean    sd  hdi_3%  hdi_97%  mcse_mean  mcse_sd  ess_bulk  ess_tail  \\\n",
            "alpha -4.07  0.15   -4.36    -3.79        0.0      0.0    1998.0    2119.0   \n",
            "beta   2.02  0.03    1.97     2.07        0.0      0.0    2066.0    2270.0   \n",
            "sigma  0.59  0.06    0.48     0.70        0.0      0.0    1901.0    1657.0   \n",
            "\n",
            "       r_hat  \n",
            "alpha    1.0  \n",
            "beta     1.0  \n",
            "sigma    1.0  \n"
          ]
        }
      ]
    },
    {
      "cell_type": "markdown",
      "source": [
        "This is the summary of the values that I got when I applied the nuts sampler(Pymc3) on the model"
      ],
      "metadata": {
        "id": "NxnYnzkmz38g"
      }
    },
    {
      "cell_type": "code",
      "source": [
        "pm.autocorrplot(trace)"
      ],
      "metadata": {
        "colab": {
          "base_uri": "https://localhost:8080/",
          "height": 814
        },
        "id": "bMJHqs1P8h3J",
        "outputId": "1b24d9b4-7aaf-44c1-dce7-2fa2764bb7c1"
      },
      "execution_count": 23,
      "outputs": [
        {
          "output_type": "stream",
          "name": "stderr",
          "text": [
            "/usr/local/lib/python3.7/dist-packages/ipykernel_launcher.py:1: DeprecationWarning: The function `autocorrplot` from PyMC3 is just an alias for `plot_autocorr` from ArviZ. Please switch to `pymc3.plot_autocorr` or `arviz.plot_autocorr`.\n",
            "  \"\"\"Entry point for launching an IPython kernel.\n",
            "ERROR:arviz.data.io_pymc3_3x:Got error No model on context stack. trying to find log_likelihood in translation.\n",
            "/usr/local/lib/python3.7/dist-packages/arviz/data/io_pymc3_3x.py:102: FutureWarning: Using `from_pymc3` without the model will be deprecated in a future release. Not using the model will return less accurate and less useful results. Make sure you use the model argument or call from_pymc3 within a model context.\n",
            "  FutureWarning,\n"
          ]
        },
        {
          "output_type": "execute_result",
          "data": {
            "text/plain": [
              "array([[<matplotlib.axes._subplots.AxesSubplot object at 0x7ff085568390>,\n",
              "        <matplotlib.axes._subplots.AxesSubplot object at 0x7ff08557ef10>,\n",
              "        <matplotlib.axes._subplots.AxesSubplot object at 0x7ff0849dacd0>],\n",
              "       [<matplotlib.axes._subplots.AxesSubplot object at 0x7ff0848668d0>,\n",
              "        <matplotlib.axes._subplots.AxesSubplot object at 0x7ff08cf19890>,\n",
              "        <matplotlib.axes._subplots.AxesSubplot object at 0x7ff08e571510>]],\n",
              "      dtype=object)"
            ]
          },
          "metadata": {},
          "execution_count": 23
        },
        {
          "output_type": "display_data",
          "data": {
            "text/plain": [
              "<Figure size 1490.4x662.4 with 6 Axes>"
            ],
            "image/png": "[encoded data removed]"
          },
          "metadata": {
            "needs_background": "light"
          }
        }
      ]
    },
    {
      "cell_type": "code",
      "source": [
        ""
      ],
      "metadata": {
        "id": "O4Bysav81IDG"
      },
      "execution_count": null,
      "outputs": []
    },
    {
      "cell_type": "markdown",
      "source": [
        "This is the autocorrelation plot of nuts sampler(pymc3)"
      ],
      "metadata": {
        "id": "jqoNP2QO0q2H"
      }
    },
    {
      "cell_type": "code",
      "source": [
        "from sklearn.linear_model import LinearRegression\n",
        "lm = LinearRegression()\n",
        "ypred =  lm.fit(x,y).predict(x)\n",
        "plt.scatter(x,y)\n",
        "plt.plot(x,ypred)\n",
        "legend_title = 'Simple Linear Regression\\n {} + {}*x'.format(round(lm.intercept_[0],2),round(lm.coef_[0][0],2))\n",
        "legend = plt.legend(loc='upper left', frameon=False, title=legend_title)\n",
        "plt.title(\"Simple Linear Regression\")\n",
        "plt.show()\n"
      ],
      "metadata": {
        "colab": {
          "base_uri": "https://localhost:8080/",
          "height": 298
        },
        "id": "Ij3SDhww8qEW",
        "outputId": "f8a62b31-e14c-4880-e132-38ca0a6c9611"
      },
      "execution_count": null,
      "outputs": [
        {
          "output_type": "stream",
          "name": "stderr",
          "text": [
            "No handles with labels found to put in legend.\n"
          ]
        },
        {
          "output_type": "display_data",
          "data": {
            "text/plain": [
              "<Figure size 432x288 with 1 Axes>"
            ],
            "image/png": "[encoded data removed]"
          },
          "metadata": {
            "needs_background": "light"
          }
        }
      ]
    },
    {
      "cell_type": "code",
      "source": [
        "plt.plot(x, y, 'b.');\n",
        "\n",
        "idx = range(0, len(trace['alpha']), 10)\n",
        "alpha_m = trace['alpha'].mean()\n",
        "beta_m = trace['beta'].mean()\n",
        "\n",
        "plt.plot(x, trace['alpha'][idx] + trace['beta'][idx] *x, c='gray', alpha=0.2);\n",
        "plt.plot(x, alpha_m + beta_m * x, c='k', label='y = {:.2f} + {:.2f}* x'.format(alpha_m, beta_m))\n",
        "plt.xlabel('$x$', fontsize=16)\n",
        "plt.ylabel('$y$', fontsize=16, rotation=0)\n",
        "plt.legend(loc=2, fontsize=14)\n",
        "plt.title(\"Traces\")\n",
        "plt.show()\n"
      ],
      "metadata": {
        "colab": {
          "base_uri": "https://localhost:8080/",
          "height": 300
        },
        "id": "aAecsBzX80mh",
        "outputId": "88e8a522-703b-41f4-b794-6577e0a450bd"
      },
      "execution_count": null,
      "outputs": [
        {
          "output_type": "display_data",
          "data": {
            "text/plain": [
              "<Figure size 432x288 with 1 Axes>"
            ],
            "image/png": "[encoded data removed]"
          },
          "metadata": {
            "needs_background": "light"
          }
        }
      ]
    },
    {
      "cell_type": "markdown",
      "source": [
        "Here I tried to compare both simple linear regression and bayesian linear regression. As it is clearly observable, mean values of both alpha and beta are same"
      ],
      "metadata": {
        "id": "UCxc5-E91yng"
      }
    },
    {
      "cell_type": "code",
      "source": [
        "pm.plots.plot_posterior(trace)"
      ],
      "metadata": {
        "colab": {
          "base_uri": "https://localhost:8080/",
          "height": 461
        },
        "id": "7W1XDvAw87He",
        "outputId": "8c35e369-52be-4a06-9cbd-9d76912ec85d"
      },
      "execution_count": 24,
      "outputs": [
        {
          "output_type": "stream",
          "name": "stderr",
          "text": [
            "ERROR:arviz.data.io_pymc3_3x:Got error No model on context stack. trying to find log_likelihood in translation.\n",
            "/usr/local/lib/python3.7/dist-packages/arviz/data/io_pymc3_3x.py:102: FutureWarning: Using `from_pymc3` without the model will be deprecated in a future release. Not using the model will return less accurate and less useful results. Make sure you use the model argument or call from_pymc3 within a model context.\n",
            "  FutureWarning,\n"
          ]
        },
        {
          "output_type": "execute_result",
          "data": {
            "text/plain": [
              "array([<matplotlib.axes._subplots.AxesSubplot object at 0x7ff08eff3d50>,\n",
              "       <matplotlib.axes._subplots.AxesSubplot object at 0x7ff087cde850>,\n",
              "       <matplotlib.axes._subplots.AxesSubplot object at 0x7ff087cf9710>],\n",
              "      dtype=object)"
            ]
          },
          "metadata": {},
          "execution_count": 24
        },
        {
          "output_type": "display_data",
          "data": {
            "text/plain": [
              "<Figure size 1490.4x331.2 with 3 Axes>"
            ],
            "image/png": "[encoded data removed]"
          },
          "metadata": {
            "needs_background": "light"
          }
        }
      ]
    },
    {
      "cell_type": "markdown",
      "source": [
        "These are the posterior density plot of all the parameters i.e. alpha, beta and gamma. All the graphs have 94% HDI(Highest Density Interval) which means credible interval has to remove 3% from each tail of distribution. Credible interval means the range containing a particular percentage of probable values"
      ],
      "metadata": {
        "id": "3SSCiGYx3iq1"
      }
    },
    {
      "cell_type": "code",
      "source": [
        "pm.plots.densityplot(trace)"
      ],
      "metadata": {
        "colab": {
          "base_uri": "https://localhost:8080/",
          "height": 496
        },
        "id": "t_p-sjVe9Qh9",
        "outputId": "53552cb9-1d8d-43e0-8d74-79fa807bcb74"
      },
      "execution_count": null,
      "outputs": [
        {
          "output_type": "stream",
          "name": "stderr",
          "text": [
            "/usr/local/lib/python3.7/dist-packages/ipykernel_launcher.py:1: DeprecationWarning: The function `densityplot` from PyMC3 is just an alias for `plot_density` from ArviZ. Please switch to `pymc3.plot_density` or `arviz.plot_density`.\n",
            "  \"\"\"Entry point for launching an IPython kernel.\n",
            "Got error No model on context stack. trying to find log_likelihood in translation.\n",
            "/usr/local/lib/python3.7/dist-packages/arviz/data/io_pymc3_3x.py:102: FutureWarning: Using `from_pymc3` without the model will be deprecated in a future release. Not using the model will return less accurate and less useful results. Make sure you use the model argument or call from_pymc3 within a model context.\n",
            "  FutureWarning,\n"
          ]
        },
        {
          "output_type": "execute_result",
          "data": {
            "text/plain": [
              "array([[<matplotlib.axes._subplots.AxesSubplot object at 0x7efdaefe9150>,\n",
              "        <matplotlib.axes._subplots.AxesSubplot object at 0x7efdacd35410>,\n",
              "        <matplotlib.axes._subplots.AxesSubplot object at 0x7efdacd00650>]],\n",
              "      dtype=object)"
            ]
          },
          "metadata": {},
          "execution_count": 22
        },
        {
          "output_type": "display_data",
          "data": {
            "text/plain": [
              "<Figure size 1490.4x331.2 with 3 Axes>"
            ],
            "image/png": "[encoded data removed]"
          },
          "metadata": {
            "needs_background": "light"
          }
        }
      ]
    },
    {
      "cell_type": "markdown",
      "source": [
        "Generates KDE plots for continuous variables. Plots are truncated at their 100*(1-alpha)% credible intervals."
      ],
      "metadata": {
        "id": "2h4oAWZT6_LI"
      }
    },
    {
      "cell_type": "code",
      "source": [
        "ypred = pm.sampling.sample_posterior_predictive(model=bm,trace=trace, samples=500)\n",
        "y_sample_posterior_predictive = np.asarray(ypred['Ylikelihood'])"
      ],
      "metadata": {
        "colab": {
          "base_uri": "https://localhost:8080/",
          "height": 92
        },
        "id": "Oc7MOR3F9YZW",
        "outputId": "6fe7a619-9aa5-4267-ea2e-71a9befbe9c7"
      },
      "execution_count": 25,
      "outputs": [
        {
          "output_type": "stream",
          "name": "stderr",
          "text": [
            "/usr/local/lib/python3.7/dist-packages/pymc3/sampling.py:1690: UserWarning: samples parameter is smaller than nchains times ndraws, some draws and/or chains may not be represented in the returned posterior predictive sample\n",
            "  \"samples parameter is smaller than nchains times ndraws, some draws \"\n"
          ]
        },
        {
          "output_type": "display_data",
          "data": {
            "text/plain": [
              "<IPython.core.display.HTML object>"
            ],
            "text/html": [
              "\n",
              "<style>\n",
              "    /* Turns off some styling */\n",
              "    progress {\n",
              "        /* gets rid of default border in Firefox and Opera. */\n",
              "        border: none;\n",
              "        /* Needs to be in here for Safari polyfill so background images work as expected. */\n",
              "        background-size: auto;\n",
              "    }\n",
              "    .progress-bar-interrupted, .progress-bar-interrupted::-webkit-progress-bar {\n",
              "        background: #F44336;\n",
              "    }\n",
              "</style>\n"
            ]
          },
          "metadata": {}
        },
        {
          "output_type": "display_data",
          "data": {
            "text/plain": [
              "<IPython.core.display.HTML object>"
            ],
            "text/html": [
              "\n",
              "    <div>\n",
              "      <progress value='500' class='' max='500' style='width:300px; height:20px; vertical-align: middle;'></progress>\n",
              "      100.00% [500/500 00:02<00:00]\n",
              "    </div>\n",
              "    "
            ]
          },
          "metadata": {}
        }
      ]
    },
    {
      "cell_type": "markdown",
      "source": [
        "Now I try to validate the model by using PPC(Posterior Predictive Checks)"
      ],
      "metadata": {
        "id": "vqNnzZSp7JsF"
      }
    },
    {
      "cell_type": "code",
      "source": [
        "_, ax = plt.subplots()\n",
        "ax.hist([n.mean() for n in y_sample_posterior_predictive], bins=19, alpha=0.5)\n",
        "ax.axvline(y.mean())\n",
        "ax.set(title='Posterior predictive of the mean', xlabel='mean(x)', ylabel='Frequency');"
      ],
      "metadata": {
        "colab": {
          "base_uri": "https://localhost:8080/",
          "height": 295
        },
        "id": "VzxCe0ES9gxn",
        "outputId": "585a076f-6f97-4ee3-e17a-a01ace9c8f61"
      },
      "execution_count": null,
      "outputs": [
        {
          "output_type": "display_data",
          "data": {
            "text/plain": [
              "<Figure size 432x288 with 1 Axes>"
            ],
            "image/png": "[encoded data removed]"
          },
          "metadata": {
            "needs_background": "light"
          }
        }
      ]
    },
    {
      "cell_type": "code",
      "source": [
        ""
      ],
      "metadata": {
        "id": "KB1TzESE-g0m"
      },
      "execution_count": null,
      "outputs": []
    }
  ]
}