{
  "nbformat": 4,
  "nbformat_minor": 0,
  "metadata": {
    "colab": {
      "name": "TASK_2.ipynb",
      "provenance": [],
      "collapsed_sections": []
    },
    "kernelspec": {
      "name": "python3",
      "display_name": "Python 3"
    },
    "language_info": {
      "name": "python"
    }
  },
  "cells": [
    {
      "cell_type": "code",
      "execution_count": 32,
      "metadata": {
        "id": "EtlsRDB4mZ02"
      },
      "outputs": [],
      "source": [
        "\"\"\"Import the relevant libraries\"\"\"\n",
        "import numpy as np\n",
        "import pandas as pd\n",
        "import jax\n",
        "import jax.random as random\n",
        "import matplotlib.pyplot as plt\n",
        "import jax.numpy as jnp"
      ]
    },
    {
      "cell_type": "code",
      "source": [
        "\"\"\"An array of 1000x10 is formed and is filled with random values as per standard normal distribution\"\"\"\n",
        "X=np.random.randn(1000,10)\n"
      ],
      "metadata": {
        "id": "_bJh39IV9Zn-"
      },
      "execution_count": 33,
      "outputs": []
    },
    {
      "cell_type": "markdown",
      "source": [
        "Box-Mueller transformation is done and samples are created"
      ],
      "metadata": {
        "id": "319gwPMLdWZB"
      }
    },
    {
      "cell_type": "code",
      "source": [
        "X"
      ],
      "metadata": {
        "colab": {
          "base_uri": "https://localhost:8080/"
        },
        "id": "0TGT21t2cHm2",
        "outputId": "8df2370b-d491-4159-f575-93f7b14ce474"
      },
      "execution_count": 34,
      "outputs": [
        {
          "output_type": "execute_result",
          "data": {
            "text/plain": [
              "array([[-0.31684426,  1.03662443, -1.2598643 , ..., -2.30663845,\n",
              "        -0.05339901,  0.27722158],\n",
              "       [-1.58325817, -1.778672  ,  1.02593373, ..., -2.07729084,\n",
              "        -0.76656059,  0.04055908],\n",
              "       [-0.20223584,  0.24173262,  2.25299363, ..., -0.05600161,\n",
              "         0.97850375,  0.94474802],\n",
              "       ...,\n",
              "       [-0.39486072,  0.5641165 ,  0.51273186, ..., -0.49244466,\n",
              "        -0.80593473, -0.35283947],\n",
              "       [-0.0140372 , -0.43011928, -0.90527799, ..., -0.55656619,\n",
              "         1.40759279,  1.52941786],\n",
              "       [-0.50126757,  0.47975776, -2.004846  , ...,  0.51238487,\n",
              "         0.93753791,  0.07640953]])"
            ]
          },
          "metadata": {},
          "execution_count": 34
        }
      ]
    },
    {
      "cell_type": "markdown",
      "source": [
        "These values are as per standard normal distribution"
      ],
      "metadata": {
        "id": "JptvhHeLcJrs"
      }
    },
    {
      "cell_type": "code",
      "source": [
        "\"\"\"Covariance matrix  of order 10x10 is formed where the state of randomness is 42\"\"\"\n",
        "covariance=random.uniform(jax.random.PRNGKey(42),(10,10))"
      ],
      "metadata": {
        "id": "4-RT05IMnAuQ"
      },
      "execution_count": 20,
      "outputs": []
    },
    {
      "cell_type": "code",
      "source": [
        "covariance"
      ],
      "metadata": {
        "colab": {
          "base_uri": "https://localhost:8080/"
        },
        "id": "T7gD4lQI65ZX",
        "outputId": "2499e4b3-3880-48f4-d813-c390c5bacabb"
      },
      "execution_count": 21,
      "outputs": [
        {
          "output_type": "execute_result",
          "data": {
            "text/plain": [
              "DeviceArray([[0.684541  , 0.9428723 , 0.89513147, 0.4053936 , 0.15135467,\n",
              "              0.33525085, 0.21541345, 0.94111454, 0.39515913, 0.0342294 ],\n",
              "             [0.74429524, 0.33847547, 0.7611736 , 0.972476  , 0.6630137 ,\n",
              "              0.94454443, 0.55559635, 0.07117987, 0.39472985, 0.04019296],\n",
              "             [0.05007648, 0.11314845, 0.6809108 , 0.54507875, 0.6494565 ,\n",
              "              0.38641107, 0.8278887 , 0.15131176, 0.02928579, 0.5129137 ],\n",
              "             [0.259511  , 0.3685975 , 0.34400415, 0.08982337, 0.07031083,\n",
              "              0.65979457, 0.6572846 , 0.1545142 , 0.21719241, 0.13127482],\n",
              "             [0.7853644 , 0.5679945 , 0.6309763 , 0.13408446, 0.08149076,\n",
              "              0.80145156, 0.98300517, 0.7719532 , 0.9083533 , 0.7691865 ],\n",
              "             [0.24539304, 0.66746163, 0.6814374 , 0.8822509 , 0.47892106,\n",
              "              0.10020494, 0.28252995, 0.71044123, 0.5421467 , 0.07213926],\n",
              "             [0.25094116, 0.9231638 , 0.8877921 , 0.50331163, 0.9682282 ,\n",
              "              0.7115189 , 0.83975315, 0.02957857, 0.9498954 , 0.905043  ],\n",
              "             [0.16409564, 0.7829788 , 0.27299178, 0.502848  , 0.48028064,\n",
              "              0.15844417, 0.42701256, 0.95470214, 0.5603069 , 0.29228318],\n",
              "             [0.60809314, 0.98376274, 0.05047977, 0.67724967, 0.60934985,\n",
              "              0.61850286, 0.7827209 , 0.34860313, 0.04801106, 0.43061733],\n",
              "             [0.873229  , 0.45630372, 0.40715206, 0.1476078 , 0.439036  ,\n",
              "              0.2949103 , 0.41334915, 0.2605542 , 0.98662245, 0.41848385]],            dtype=float32)"
            ]
          },
          "metadata": {},
          "execution_count": 21
        }
      ]
    },
    {
      "cell_type": "code",
      "source": [
        "\"\"\"Similarly mean array is formed whose order is 1x10 and state of randomness is 42\"\"\"\n",
        "mean = random.uniform(jax.random.PRNGKey(42),(1,10))"
      ],
      "metadata": {
        "id": "wNdwUJLinPqH"
      },
      "execution_count": 22,
      "outputs": []
    },
    {
      "cell_type": "code",
      "source": [
        "mean"
      ],
      "metadata": {
        "colab": {
          "base_uri": "https://localhost:8080/"
        },
        "id": "Jm8jv6Ov68Hs",
        "outputId": "05ef7a4e-7a01-4da4-c2ac-1bfcc325eeab"
      },
      "execution_count": 23,
      "outputs": [
        {
          "output_type": "execute_result",
          "data": {
            "text/plain": [
              "DeviceArray([[0.6439377 , 0.32251573, 0.19349372, 0.8864933 , 0.84208524,\n",
              "              0.19193006, 0.34513092, 0.2523831 , 0.6319014 , 0.65476775]],            dtype=float32)"
            ]
          },
          "metadata": {},
          "execution_count": 23
        }
      ]
    },
    {
      "cell_type": "code",
      "source": [
        "\"\"\"In order to make covariance matrix symmetric I multiplied it by its transpose\"\"\"\n",
        "covariance=covariance @ covariance.T"
      ],
      "metadata": {
        "id": "qQ7jyQWvq3RN"
      },
      "execution_count": 24,
      "outputs": []
    },
    {
      "cell_type": "code",
      "source": [
        "covariance"
      ],
      "metadata": {
        "colab": {
          "base_uri": "https://localhost:8080/"
        },
        "id": "4n2PkI39740Y",
        "outputId": "e3a7ee8d-583b-42c6-8889-9a0fd06f258a"
      },
      "execution_count": 25,
      "outputs": [
        {
          "output_type": "execute_result",
          "data": {
            "text/plain": [
              "DeviceArray([[3.5479321, 2.6652634, 1.5491525, 1.4786901, 3.2968676,\n",
              "              2.817199 , 3.041088 , 2.6464887, 2.4935434, 2.3560598],\n",
              "             [2.6652634, 3.9965682, 2.4224358, 1.8041261, 3.1890795,\n",
              "              2.621846 , 3.8584723, 2.0901668, 2.9667735, 2.48196  ],\n",
              "             [1.5491525, 2.4224358, 2.319401 , 1.2797459, 2.3206882,\n",
              "              1.7767437, 3.0913587, 1.5942326, 2.1030607, 1.477314 ],\n",
              "             [1.4786901, 1.8041261, 1.2797459, 1.2901931, 2.2404516,\n",
              "              1.1458551, 2.1751912, 1.1968237, 1.6848376, 1.3547455],\n",
              "             [3.2968676, 3.1890795, 2.3206882, 2.2404516, 4.9834547,\n",
              "              2.6135466, 4.405546 , 2.8699198, 3.117723 , 3.3193638],\n",
              "             [2.817199 , 2.621846 , 1.7767437, 1.1458551, 2.6135466,\n",
              "              2.8715296, 3.1003208, 2.5621917, 2.3174539, 2.0333154],\n",
              "             [3.041088 , 3.8584723, 3.0913587, 2.1751912, 4.405546 ,\n",
              "              3.1003208, 5.8278894, 3.0207882, 3.579455 , 3.3818047],\n",
              "             [2.6464887, 2.0901668, 1.5942326, 1.1968237, 2.8699198,\n",
              "              2.5621917, 3.0207882, 2.716307 , 2.434849 , 2.043914 ],\n",
              "             [2.4935434, 2.9667735, 2.1030607, 1.6848376, 3.117723 ,\n",
              "              2.3174539, 3.579455 , 2.434849 , 3.4745471, 2.192291 ],\n",
              "             [2.3560598, 2.48196  , 1.477314 , 1.3547455, 3.3193638,\n",
              "              2.0333154, 3.3818047, 2.043914 , 2.192291 , 2.8253264]],            dtype=float32)"
            ]
          },
          "metadata": {},
          "execution_count": 25
        }
      ]
    },
    {
      "cell_type": "markdown",
      "source": [
        "For the cholesky decomposition, symmetric matrix is required. Hence in order to make the matrix symmetric, I multiplied the covariance matrix with its transpose and that value is the new covariance which I'm going to use for the cholesky decomposition"
      ],
      "metadata": {
        "id": "N8aHT5Yde-vZ"
      }
    },
    {
      "cell_type": "code",
      "source": [
        "\"\"\"Cholesky decomposition of covariance matrix is done and stored\"\"\"\n",
        "Lowtriangle=np.linalg.cholesky(covariance)"
      ],
      "metadata": {
        "id": "hJf7XqtknucY"
      },
      "execution_count": 35,
      "outputs": []
    },
    {
      "cell_type": "code",
      "source": [
        "Lowtriangle"
      ],
      "metadata": {
        "colab": {
          "base_uri": "https://localhost:8080/"
        },
        "id": "bTPKKLseoAxf",
        "outputId": "044f045f-df9c-41bb-f923-d1029bad41c9"
      },
      "execution_count": 36,
      "outputs": [
        {
          "output_type": "execute_result",
          "data": {
            "text/plain": [
              "array([[ 1.8835956e+00,  0.0000000e+00,  0.0000000e+00,  0.0000000e+00,\n",
              "         0.0000000e+00,  0.0000000e+00,  0.0000000e+00,  0.0000000e+00,\n",
              "         0.0000000e+00,  0.0000000e+00],\n",
              "       [ 1.4149871e+00,  1.4122251e+00,  0.0000000e+00,  0.0000000e+00,\n",
              "         0.0000000e+00,  0.0000000e+00,  0.0000000e+00,  0.0000000e+00,\n",
              "         0.0000000e+00,  0.0000000e+00],\n",
              "       [ 8.2244432e-01,  8.9127976e-01,  9.2119855e-01,  0.0000000e+00,\n",
              "         0.0000000e+00,  0.0000000e+00,  0.0000000e+00,  0.0000000e+00,\n",
              "         0.0000000e+00,  0.0000000e+00],\n",
              "       [ 7.8503591e-01,  4.9093479e-01,  2.1334961e-01,  6.2239587e-01,\n",
              "         0.0000000e+00,  0.0000000e+00,  0.0000000e+00,  0.0000000e+00,\n",
              "         0.0000000e+00,  0.0000000e+00],\n",
              "       [ 1.7503055e+00,  5.0446618e-01,  4.6845374e-01,  8.3354414e-01,\n",
              "         8.6669171e-01,  0.0000000e+00,  0.0000000e+00,  0.0000000e+00,\n",
              "         0.0000000e+00,  0.0000000e+00],\n",
              "       [ 1.4956497e+00,  3.5796064e-01,  2.4708246e-01, -4.1249290e-01,\n",
              "         4.9854115e-02,  5.2224547e-01,  0.0000000e+00,  0.0000000e+00,\n",
              "         0.0000000e+00,  0.0000000e+00],\n",
              "       [ 1.6145123e+00,  1.1145236e+00,  8.3604103e-01,  2.9276150e-01,\n",
              "         4.4045743e-01,  3.4246895e-01,  9.3974191e-01,  0.0000000e+00,\n",
              "         0.0000000e+00,  0.0000000e+00],\n",
              "       [ 1.4050196e+00,  7.2284624e-02,  4.0627107e-01, -4.5520782e-02,\n",
              "         2.5599122e-01,  5.8014464e-01,  3.6219023e-02,  4.0799788e-01,\n",
              "         0.0000000e+00,  0.0000000e+00],\n",
              "       [ 1.3238211e+00,  7.7436936e-01,  3.5183719e-01,  3.0585250e-01,\n",
              "        -1.1275509e-02,  1.9163209e-01,  1.4336151e-01,  6.7740691e-01,\n",
              "         6.2352175e-01,  0.0000000e+00],\n",
              "       [ 1.2508310e+00,  5.0420451e-01, -8.8166253e-04,  2.0156749e-01,\n",
              "         8.1698126e-01,  4.7215655e-02,  3.8955942e-01,  2.1857897e-02,\n",
              "         2.2683533e-02,  3.7876001e-01]], dtype=float32)"
            ]
          },
          "metadata": {},
          "execution_count": 36
        }
      ]
    },
    {
      "cell_type": "code",
      "source": [
        "\"\"\"Here multi-variate normal sample is created\"\"\" \n",
        "Y=mean+X@Lowtriangle.T"
      ],
      "metadata": {
        "id": "EJjDQgbvts5_"
      },
      "execution_count": 37,
      "outputs": []
    },
    {
      "cell_type": "markdown",
      "source": [
        "In univariate normal distribution, Y=T+PX where T is mean vector and P is standard deviation. For multivariate normal distribution, Y=T+LX. Here we have the covariance matrix instead of variance. Like in univariate distribution where we take the square root of variance into consideration, here we take the square root of symmetric positive definite matrix i.e. Cholesky factor into consideration."
      ],
      "metadata": {
        "id": "_fWN9lnrfxoO"
      }
    },
    {
      "cell_type": "code",
      "source": [
        "Y"
      ],
      "metadata": {
        "colab": {
          "base_uri": "https://localhost:8080/"
        },
        "id": "yGUgvocHFS3g",
        "outputId": "1b062071-28cf-4865-aefb-e9ff8eabda2e"
      },
      "execution_count": 29,
      "outputs": [
        {
          "output_type": "execute_result",
          "data": {
            "text/plain": [
              "DeviceArray([[ 2.3758683 ,  3.185282  ,  2.5491614 , ...,  3.7827063 ,\n",
              "               5.641053  ,  1.9062945 ],\n",
              "             [-0.7430111 , -0.83479345, -0.5266848 , ..., -1.1068221 ,\n",
              "               0.09738332, -0.2202577 ],\n",
              "             [ 2.116631  ,  0.29399127, -1.2149109 , ...,  2.7434134 ,\n",
              "               1.2140694 ,  1.8353761 ],\n",
              "             ...,\n",
              "             [ 2.615984  ,  0.5686573 ,  0.79592866, ...,  0.9872347 ,\n",
              "               0.6438987 ,  2.314989  ],\n",
              "             [-1.4085294 , -2.5080042 , -2.833181  , ..., -0.77959096,\n",
              "              -0.3331383 , -3.0973082 ],\n",
              "             [-0.4956833 , -1.9133315 , -0.79805374, ..., -1.1475973 ,\n",
              "              -2.3006606 , -2.114443  ]], dtype=float32)"
            ]
          },
          "metadata": {},
          "execution_count": 29
        }
      ]
    },
    {
      "cell_type": "code",
      "source": [
        "\"\"\"Mean of the normal sample\"\"\"\n",
        "jnp.mean(Y,axis=0)"
      ],
      "metadata": {
        "colab": {
          "base_uri": "https://localhost:8080/"
        },
        "id": "WJT9KF_nt1sk",
        "outputId": "89bfae11-7c62-4ab9-9e0e-cdc33e5657b9"
      },
      "execution_count": 30,
      "outputs": [
        {
          "output_type": "execute_result",
          "data": {
            "text/plain": [
              "DeviceArray([0.70344687, 0.3471242 , 0.23346965, 0.9225257 , 0.9408433 ,\n",
              "             0.22679904, 0.3866526 , 0.31112766, 0.6957183 , 0.6818863 ],            dtype=float32)"
            ]
          },
          "metadata": {},
          "execution_count": 30
        }
      ]
    },
    {
      "cell_type": "code",
      "source": [
        "\"\"\"Covariance of the normal sample\"\"\"\n",
        "jnp.cov(Y.T)"
      ],
      "metadata": {
        "colab": {
          "base_uri": "https://localhost:8080/"
        },
        "id": "Pmh5OJrGvmso",
        "outputId": "b6d71217-fa80-4f4f-a1f5-8729a0fc78bf"
      },
      "execution_count": 31,
      "outputs": [
        {
          "output_type": "execute_result",
          "data": {
            "text/plain": [
              "DeviceArray([[3.8109794, 2.8519979, 1.6293215, 1.5724703, 3.5271146,\n",
              "              3.015753 , 3.295258 , 2.8393233, 2.6584394, 2.5668786],\n",
              "             [2.8519979, 4.1096363, 2.4338102, 1.8329178, 3.393015 ,\n",
              "              2.7055209, 3.995627 , 2.2215157, 3.0890918, 2.6914928],\n",
              "             [1.6293215, 2.4338102, 2.2704747, 1.2405025, 2.3219671,\n",
              "              1.8068421, 3.1154137, 1.6478155, 2.1558828, 1.5283746],\n",
              "             [1.5724703, 1.8329178, 1.2405025, 1.2923086, 2.336769 ,\n",
              "              1.1883239, 2.202296 , 1.2635748, 1.697153 , 1.4667444],\n",
              "             [3.5271146, 3.393015 , 2.3219671, 2.336769 , 5.211194 ,\n",
              "              2.764313 , 4.5571966, 3.0205228, 3.2324889, 3.5241122],\n",
              "             [3.015753 , 2.7055209, 1.8068421, 1.1883239, 2.764313 ,\n",
              "              2.9839537, 3.23864  , 2.6885304, 2.4257512, 2.1553555],\n",
              "             [3.295258 , 3.995627 , 3.1154137, 2.202296 , 4.5571966,\n",
              "              3.23864  , 6.019063 , 3.1767914, 3.7302458, 3.5615282],\n",
              "             [2.8393233, 2.2215157, 1.6478155, 1.2635748, 3.0205228,\n",
              "              2.6885304, 3.1767914, 2.829232 , 2.5400405, 2.1609125],\n",
              "             [2.6584394, 3.0890918, 2.1558828, 1.697153 , 3.2324889,\n",
              "              2.4257512, 3.7302458, 2.5400405, 3.5659423, 2.337996 ],\n",
              "             [2.5668786, 2.6914928, 1.5283746, 1.4667444, 3.5241122,\n",
              "              2.1553555, 3.5615282, 2.1609125, 2.337996 , 2.9974241]],            dtype=float32)"
            ]
          },
          "metadata": {},
          "execution_count": 31
        }
      ]
    },
    {
      "cell_type": "markdown",
      "source": [
        "If I compare both mean values and covariance values i.e. mean and covariance that I had randomly selected and that I found out from Y , they are very near to each other"
      ],
      "metadata": {
        "id": "_RwZtq0klpaI"
      }
    },
    {
      "cell_type": "code",
      "source": [
        ""
      ],
      "metadata": {
        "id": "PsOqV4wpvt8O"
      },
      "execution_count": 37,
      "outputs": []
    },
    {
      "cell_type": "code",
      "source": [
        ""
      ],
      "metadata": {
        "id": "POeSJcEr3ZVD"
      },
      "execution_count": null,
      "outputs": []
    }
  ]
}